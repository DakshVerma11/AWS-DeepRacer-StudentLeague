{
 "cells": [
  {
   "cell_type": "code",
   "execution_count": 1,
   "id": "a0cdef71-0d14-4f38-ac06-6604e8a8d6d9",
   "metadata": {},
   "outputs": [],
   "source": [
    "import numpy as np\n",
    "import matplotlib.pyplot as plt"
   ]
  },
  {
   "cell_type": "code",
   "execution_count": 3,
   "id": "212a84d8-0173-42ed-9b5a-1bf4b4282531",
   "metadata": {},
   "outputs": [],
   "source": [
    "tracks = [\n",
    "    {\"name\": \"2022 re:Invent Championship\", \"file\": \"2022_reinvent_champ.npy\"},\n",
    "    {\"name\": \"Jennens Super Speedway\", \"file\": \"2022_october_pro.npy\"},\n",
    "    {\"name\": \"Jennens Family Speedway\", \"file\": \"2022_october_open.npy\"},\n",
    "    {\"name\": \"Roger Super Raceway\", \"file\": \"2022_september_pro.npy\"},\n",
    "    {\"name\": \"Red Star Open\", \"file\": \"red_star_open.npy\"},\n",
    "    {\"name\": \"Jochem Highway\", \"file\": \"2022_august_pro.npy\"},\n",
    "    {\"name\": \"Jochem Turnpike\", \"file\": \"2022_august_open.npy\"},\n",
    "    {\"name\": \"DBro Super Raceway\", \"file\": \"2022_july_pro.npy\"},\n",
    "    {\"name\": \"DBro Raceway\", \"file\": \"2022_july_open.npy\"},\n",
    "    {\"name\": \"BreadCentric Speedway\", \"file\": \"2022_june_pro.npy\"},\n",
    "    {\"name\": \"BreadCentric Loop\", \"file\": \"2022_june_open.npy\"},\n",
    "    {\"name\": \"Ross Raceway\", \"file\": \"2022_may_open.npy\"},\n",
    "    {\"name\": \"Ross Super Speedway\", \"file\": \"2022_may_pro.npy\"},\n",
    "    {\"name\": \"Ace Super Speedway\", \"file\": \"2022_april_pro.npy\"},\n",
    "    {\"name\": \"Ace Speedway\", \"file\": \"2022_april_open.npy\"},\n",
    "    {\"name\": \"Rogue Circuit\", \"file\": \"2022_march_open.npy\"},\n",
    "    {\"name\": \"Rogue Raceway\", \"file\": \"2022_march_pro.npy\"},\n",
    "    {\"name\": \"RL Speedway\", \"file\": \"2022_summit_speedway.npy\"},\n",
    "    {\"name\": \"Vivalas Loop\", \"file\": \"caecer_loop.npy\"},\n",
    "    {\"name\": \"Vivalas Speedway\", \"file\": \"caecer_gp.npy\"},\n",
    "    {\"name\": \"Expedition Loop\", \"file\": \"red_star_open.npy\"},\n",
    "    {\"name\": \"Expedition Super Loop\", \"file\": \"red_star_pro.npy\"},\n",
    "    {\"name\": \"Playa Super Raceway\", \"file\": \"morgan_pro.npy\"},\n",
    "    {\"name\": \"Playa Raceway\", \"file\": \"morgan_open.npy\"},\n",
    "    {\"name\": \"Hot Rod Super Speedway\", \"file\": \"arctic_pro.npy\"},\n",
    "    {\"name\": \"Hot Rod Speedway\", \"file\": \"arctic_open.npy\"},\n",
    "    {\"name\": \"Baja Highway\", \"file\": \"dubai_pro.npy\"},\n",
    "    {\"name\": \"Baja Turnpike\", \"file\": \"dubai_open.npy\"},\n",
    "    {\"name\": \"Kuei Raceway\", \"file\": \"hamption_open.npy\"},\n",
    "    {\"name\": \"Cosmic Circuit\", \"file\": \"jyllandsringen_pro.npy\"},\n",
    "    {\"name\": \"Cosmic Loop\", \"file\": \"jyllandsringen_open.npy\"},\n",
    "    {\"name\": \"Kuei Super Raceway\", \"file\": \"hamption_pro.npy\"},\n",
    "    {\"name\": \"Lars Circuit\", \"file\": \"thunder_hill_pro.npy\"},\n",
    "    {\"name\": \"Lars Loop\", \"file\": \"thunder_hill_open.npy\"},\n",
    "    {\"name\": \"Po-Chun Speedway\", \"file\": \"penbay_open.npy\"},\n",
    "    {\"name\": \"Po-Chun Super Speedway\", \"file\": \"penbay_pro.npy\"},\n",
    "    {\"name\": \"European Seaside Circuit - Buildings\", \"file\": \"Monaco_building.npy\"},\n",
    "    {\"name\": \"Asia Pacific Bay Loop - Buildings\", \"file\": \"Singapore_building.npy\"},\n",
    "    {\"name\": \"American Hills Speedway\", \"file\": \"Austin.npy\"},\n",
    "    {\"name\": \"Asia Pacific Bay Loop\", \"file\": \"Singapore.npy\"},\n",
    "    {\"name\": \"European Seaside Circuit\", \"file\": \"Monaco.npy\"},\n",
    "    {\"name\": \"Stratus Loop\", \"file\": \"Aragon.npy\"},\n",
    "    {\"name\": \"Cumulo Turnpike\", \"file\": \"Belille.npy\"},\n",
    "    {\"name\": \"Yun Speedway\", \"file\": \"Albert.npy\"},\n",
    "    {\"name\": \"Roger Raceway\", \"file\": \"July_2020.npy\"},\n",
    "    {\"name\": \"Fumiaki Loop\", \"file\": \"FS_June2020.npy\"},\n",
    "    {\"name\": \"Circuit de Barcelona-Catalunya\", \"file\": \"Spain_track.npy\"},\n",
    "    {\"name\": \"Smile Speedway\", \"file\": \"reInvent2019_track.npy\"},\n",
    "    {\"name\": \"re:Invent 2018\", \"file\": \"reinvent_base.npy\"},\n",
    "    {\"name\": \"Baadal Track\", \"file\": \"AmericasGeneratedInclStart.npy\"},\n",
    "    {\"name\": \"SOLA Speedway\", \"file\": \"LGSWide.npy\"},\n",
    "    {\"name\": \"AWS Summit Raceway\", \"file\": \"Vegas_track.npy\"},\n",
    "    {\"name\": \"Toronto Turnpike Training\", \"file\": \"Canada_Training.npy\"},\n",
    "    {\"name\": \"Cumulo Carrera Training\", \"file\": \"Mexico_track.npy\"},\n",
    "    {\"name\": \"Shanghai Sudu Training\", \"file\": \"China_track.npy\"},\n",
    "    {\"name\": \"Empire City Training\", \"file\": \"New_York_Track.npy\"},\n",
    "    {\"name\": \"Kumo Torakku Training\", \"file\": \"Tokyo_Training_track.npy\"},\n",
    "    {\"name\": \"London Loop Training\", \"file\": \"Virtual_May19_Train_track.npy\"},\n",
    "    {\"name\": \"Bowtie Track\", \"file\": \"Bowtie_track.npy\"},\n",
    "    {\"name\": \"Oval Track\", \"file\": \"Oval_track.npy\"},\n",
    "    {\"name\": \"A to Z Speedway\", \"file\": \"reInvent2019_wide.npy\"},\n",
    "]\n"
   ]
  },
  {
   "cell_type": "code",
   "execution_count": 5,
   "id": "073b0d3e-2484-4498-b368-3d9ea4cbfb91",
   "metadata": {},
   "outputs": [],
   "source": [
    "\n",
    "# Function to plot and save the track\n",
    "def plot_and_save_track(track_name, file_name):\n",
    "    # Load the waypoints from the NumPy file\n",
    "    waypoints = np.load(file_name)\n",
    "\n",
    "    # Assuming the waypoints are structured as follows:\n",
    "    # waypoints[:, 0] for x coordinates\n",
    "    # waypoints[:, 1] for y coordinates\n",
    "\n",
    "    # Example of extracting lanes (you may need to adjust this based on your data structure)\n",
    "    left_lane = waypoints[::3]  # Example for left lane\n",
    "    middle_lane = waypoints[1::3]  # Example for middle lane\n",
    "    right_lane = waypoints[2::3]  # Example for right lane\n",
    "\n",
    "    # Create the plot\n",
    "    plt.figure(figsize=(10, 6))\n",
    "\n",
    "    # Plot the lanes\n",
    "    plt.plot(left_lane[:, 0], left_lane[:, 1], 'g-', label='Left Lane')\n",
    "    plt.plot(middle_lane[:, 0], middle_lane[:, 1], 'b-', label='Middle Lane')\n",
    "    plt.plot(right_lane[:, 0], right_lane[:, 1], 'r-', label='Right Lane')\n",
    "\n",
    "    # Add waypoints to the plot\n",
    "    for i in range(len(waypoints)):\n",
    "        plt.text(waypoints[i, 0], waypoints[i, 1], f'{i}', fontsize=8, ha='right')\n",
    "\n",
    "    plt.title(f'{track_name}')\n",
    "    plt.xlabel('X Coordinate')\n",
    "    plt.ylabel('Y Coordinate')\n",
    "    plt.grid()\n",
    "    plt.legend()\n",
    "\n",
    "    # Save the figure as a PNG file with the track name\n",
    "    plt.savefig(f\"{track_name.replace(' ', '_')}.png\")\n",
    "    plt.close()"
   ]
  },
  {
   "cell_type": "code",
   "execution_count": 7,
   "id": "6729f407-bffd-46b2-873b-1a90c091295d",
   "metadata": {},
   "outputs": [
    {
     "name": "stdout",
     "output_type": "stream",
     "text": [
      "Track images saved successfully.\n"
     ]
    }
   ],
   "source": [
    "# Loop through each track and plot/save the image\n",
    "for track in tracks:\n",
    "    plot_and_save_track(track['name'], track['file'])\n",
    "\n",
    "print(\"Track images saved successfully.\")"
   ]
  },
  {
   "cell_type": "code",
   "execution_count": null,
   "id": "353e7fda-7a90-45f2-9216-42c3b919d7c8",
   "metadata": {},
   "outputs": [],
   "source": []
  },
  {
   "cell_type": "code",
   "execution_count": null,
   "id": "cf4f2591-18b9-4ad4-a177-aa6c1680cb3e",
   "metadata": {},
   "outputs": [],
   "source": []
  }
 ],
 "metadata": {
  "kernelspec": {
   "display_name": "Python 3 (ipykernel)",
   "language": "python",
   "name": "python3"
  },
  "language_info": {
   "codemirror_mode": {
    "name": "ipython",
    "version": 3
   },
   "file_extension": ".py",
   "mimetype": "text/x-python",
   "name": "python",
   "nbconvert_exporter": "python",
   "pygments_lexer": "ipython3",
   "version": "3.12.4"
  }
 },
 "nbformat": 4,
 "nbformat_minor": 5
}
